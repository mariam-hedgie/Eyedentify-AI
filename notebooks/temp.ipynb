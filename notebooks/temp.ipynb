{
 "cells": [
  {
   "cell_type": "code",
   "execution_count": 6,
   "metadata": {},
   "outputs": [],
   "source": [
    "# %% \n",
    "import os, cv2\n",
    "from tqdm import tqdm\n",
    "\n",
    "# paths—you can swap in filtered_infected if you like\n",
    "filtered_folder = '../data/filtered/healthy_eye'\n",
    "test_out        = '../data/temp_crops/healthy_eye_haar'\n",
    "os.makedirs(test_out, exist_ok=True)\n",
    "\n",
    "for f in os.listdir(test_out):\n",
    "    os.remove(os.path.join(test_out, f))"
   ]
  },
  {
   "cell_type": "code",
   "execution_count": 4,
   "metadata": {},
   "outputs": [
    {
     "name": "stderr",
     "output_type": "stream",
     "text": [
      "Haar Eye Split Test: 100%|██████████| 788/788 [00:03<00:00, 219.71it/s]"
     ]
    },
    {
     "name": "stdout",
     "output_type": "stream",
     "text": [
      "Done! Crops written to ../data/temp_crops/healthy_eye_haar\n"
     ]
    },
    {
     "name": "stderr",
     "output_type": "stream",
     "text": [
      "\n"
     ]
    }
   ],
   "source": [
    "\n",
    "\n",
    "# load Haar cascade for eyes (comes with opencv-python)\n",
    "eye_cascade = cv2.CascadeClassifier(\n",
    "    cv2.data.haarcascades + 'haarcascade_eye.xml'\n",
    ")\n",
    "# %% Wipe just the contents\n",
    "for f in os.listdir(test_out):\n",
    "    os.remove(os.path.join(test_out, f))\n",
    "\n",
    "for fname in tqdm(os.listdir(filtered_folder), desc=\"Haar Eye Split Test\"):\n",
    "    src_path = os.path.join(filtered_folder, fname)\n",
    "    img_bgr  = cv2.imread(src_path)\n",
    "    if img_bgr is None:\n",
    "        continue\n",
    "\n",
    "    gray = cv2.cvtColor(img_bgr, cv2.COLOR_BGR2GRAY)\n",
    "    # detect eyes (you can tweak scaleFactor/minNeighbors)\n",
    "    detections = eye_cascade.detectMultiScale(gray, scaleFactor=1.1, minNeighbors=6)\n",
    "    if len(detections) >= 2:\n",
    "        # sort by x-position, take leftmost two\n",
    "        eyes = sorted(detections, key=lambda b: b[0])[:2]\n",
    "        for i,(x,y,w_e,h_e) in enumerate(eyes):\n",
    "            crop = img_bgr[y:y+h_e, x:x+w_e]\n",
    "            out_name = f\"{os.path.splitext(fname)[0]}_{['left','right'][i]}.jpg\"\n",
    "            cv2.imwrite(os.path.join(test_out, out_name), crop)\n",
    "    elif len(detections) == 1:\n",
    "        x,y,w_e,h_e = detections[0]\n",
    "        crop = img_bgr[y:y+h_e, x:x+w_e]\n",
    "        out_name = f\"{os.path.splitext(fname)[0]}.jpg\"\n",
    "        cv2.imwrite(os.path.join(test_out, out_name), crop)\n",
    "    else:\n",
    "        # fallback: save the full image if no eyes found\n",
    "        out_name = f\"{os.path.splitext(fname)[0]}_full.jpg\"\n",
    "        cv2.imwrite(os.path.join(test_out, out_name), img_bgr)\n",
    "\n",
    "print(\"Done! Crops written to\", test_out)"
   ]
  }
 ],
 "metadata": {
  "kernelspec": {
   "display_name": ".venv",
   "language": "python",
   "name": "python3"
  },
  "language_info": {
   "codemirror_mode": {
    "name": "ipython",
    "version": 3
   },
   "file_extension": ".py",
   "mimetype": "text/x-python",
   "name": "python",
   "nbconvert_exporter": "python",
   "pygments_lexer": "ipython3",
   "version": "3.12.4"
  }
 },
 "nbformat": 4,
 "nbformat_minor": 2
}
