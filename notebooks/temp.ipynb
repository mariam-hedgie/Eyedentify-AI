{
 "cells": [
  {
   "cell_type": "code",
   "execution_count": null,
   "metadata": {},
   "outputs": [],
   "source": [
    "import cv2\n",
    "import os\n",
    "import shutil\n",
    "from ultralytics import YOLO\n",
    "from glob import glob\n",
    "from tqdm import tqdm"
   ]
  },
  {
   "cell_type": "code",
   "execution_count": null,
   "metadata": {},
   "outputs": [],
   "source": [
    "\n",
    "# === Load YOLO model ===\n",
    "model = YOLO(\"yolov8n.pt\")  # Replace with your fine-tuned eye model\n",
    "\n",
    "# === Define folders ===\n",
    "input_base = \"../data/filtered\"\n",
    "output_base = \"../data/temp_split\"\n",
    "classes = [\"healthy_eye\", \"infected_eye\"]\n",
    "\n",
    "# === Create output folders ===\n",
    "for cls in classes:\n",
    "    os.makedirs(os.path.join(output_base, cls), exist_ok=True)"
   ]
  },
  {
   "cell_type": "code",
   "execution_count": null,
   "metadata": {},
   "outputs": [],
   "source": [
    "# === Function to process and move/split images ===\n",
    "def process_image(image_path, out_dir):\n",
    "    img = cv2.imread(image_path)\n",
    "    filename = os.path.splitext(os.path.basename(image_path))[0]\n",
    "\n",
    "    results = model(img)[0]\n",
    "    boxes = results.boxes.xyxy.cpu().numpy()\n",
    "    num_boxes = len(boxes)\n",
    "\n",
    "    if num_boxes == 1:\n",
    "        x1, y1, x2, y2 = map(int, boxes[0])\n",
    "        eye = img[y1:y2, x1:x2]\n",
    "        out_path = os.path.join(out_dir, f\"{filename}.jpg\")\n",
    "        cv2.imwrite(out_path, eye)\n",
    "\n",
    "    elif num_boxes == 2:\n",
    "        boxes = sorted(boxes, key=lambda b: b[0])  # sort left to right\n",
    "        for i, box in enumerate(boxes):\n",
    "            x1, y1, x2, y2 = map(int, box)\n",
    "            eye = img[y1:y2, x1:x2]\n",
    "            suffix = \"left\" if i == 0 else \"right\"\n",
    "            out_path = os.path.join(out_dir, f\"{filename}_{suffix}.jpg\")\n",
    "            cv2.imwrite(out_path, eye)\n",
    "\n",
    "    else:\n",
    "        print(f\"⚠️ Skipped (0 or >2 eyes): {image_path}\")\n",
    "        return\n",
    "\n",
    "    # Remove original after successful move\n",
    "    os.remove(image_path)\n",
    "\n",
    "# === Run the pipeline ===\n",
    "for cls in classes:\n",
    "    input_folder = os.path.join(input_base, cls)\n",
    "    output_folder = os.path.join(output_base, cls)\n",
    "    images = glob(os.path.join(input_folder, \"*.jpg\")) + glob(os.path.join(input_folder, \"*.png\"))\n",
    "\n",
    "    print(f\"\\n📂 Processing {len(images)} images from: {input_folder}\")\n",
    "\n",
    "    for img_path in tqdm(images, desc=f\"Splitting {cls}\"):\n",
    "        try:\n",
    "            process_image(img_path, output_folder)\n",
    "        except Exception as e:\n",
    "            print(f\"❌ Error with {img_path}: {e}\")"
   ]
  },
  {
   "cell_type": "code",
   "execution_count": null,
   "metadata": {},
   "outputs": [],
   "source": [
    "for box in boxes:\n",
    "    print(box)  # Bounding box\n",
    "    print(results.names[int(results.boxes.cls[0])])  # Class name"
   ]
  }
 ],
 "metadata": {
  "kernelspec": {
   "display_name": ".venv",
   "language": "python",
   "name": "python3"
  },
  "language_info": {
   "codemirror_mode": {
    "name": "ipython",
    "version": 3
   },
   "file_extension": ".py",
   "mimetype": "text/x-python",
   "name": "python",
   "nbconvert_exporter": "python",
   "pygments_lexer": "ipython3",
   "version": "3.12.4"
  }
 },
 "nbformat": 4,
 "nbformat_minor": 2
}
