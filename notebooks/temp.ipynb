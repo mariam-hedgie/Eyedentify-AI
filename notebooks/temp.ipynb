{
 "cells": [
  {
   "cell_type": "code",
   "execution_count": 12,
   "metadata": {},
   "outputs": [
    {
     "name": "stderr",
     "output_type": "stream",
     "text": [
      "100%|██████████| 172/172 [00:05<00:00, 34.21it/s]"
     ]
    },
    {
     "name": "stdout",
     "output_type": "stream",
     "text": [
      "All eye crops successful.\n"
     ]
    },
    {
     "name": "stderr",
     "output_type": "stream",
     "text": [
      "\n"
     ]
    }
   ],
   "source": [
    "import os\n",
    "import cv2\n",
    "import pandas as pd\n",
    "from tqdm import tqdm\n",
    "\n",
    "def detect_haar_eyes(input_dir, output_dir):\n",
    "    os.makedirs(output_dir, exist_ok=True)\n",
    "\n",
    "    eye_cascade = cv2.CascadeClassifier(cv2.data.haarcascades + 'haarcascade_eye.xml')\n",
    "    skipped_files = []\n",
    "\n",
    "    for file in tqdm(os.listdir(input_dir)):\n",
    "        file_path = os.path.join(input_dir, file)\n",
    "\n",
    "        img = cv2.imread(file_path)\n",
    "        if img is None:\n",
    "            skipped_files.append((file, \"Unreadable image\"))\n",
    "            continue\n",
    "\n",
    "        gray = cv2.cvtColor(img, cv2.COLOR_BGR2GRAY)\n",
    "        equalized = cv2.equalizeHist(gray)\n",
    "\n",
    "        eyes = eye_cascade.detectMultiScale(\n",
    "            equalized,\n",
    "            scaleFactor=1.03,\n",
    "            minNeighbors=2\n",
    "        )\n",
    "\n",
    "        if len(eyes) == 0:\n",
    "            fallback = cv2.resize(img, (224, 224))\n",
    "            fallback_name = os.path.splitext(file)[0] + \"_fallback.jpg\"\n",
    "            cv2.imwrite(os.path.join(output_dir, fallback_name), fallback)\n",
    "            skipped_files.append((file, \"No eyes detected — fallback used\"))\n",
    "            continue\n",
    "\n",
    "        for i, (x, y, w, h) in enumerate(eyes):\n",
    "            pad = 5\n",
    "            x1 = max(x - pad, 0)\n",
    "            y1 = max(y - pad, 0)\n",
    "            x2 = min(x + w + pad, img.shape[1])\n",
    "            y2 = min(y + h + pad, img.shape[0])\n",
    "            roi = img[y1:y2, x1:x2]\n",
    "            roi_resized = cv2.resize(roi, (224, 224))\n",
    "            save_path = os.path.join(output_dir, f\"{os.path.splitext(file)[0]}_eye{i}.jpg\")\n",
    "            cv2.imwrite(save_path, roi_resized)\n",
    "\n",
    "    return skipped_files\n",
    "\n",
    "# Use base dir one level up from 'notebooks'\n",
    "base_dir = os.path.abspath(os.path.join(os.getcwd(), \"..\"))\n",
    "\n",
    "input_path = os.path.join(base_dir, \"data\", \"processed\", \"healthy_eye\")\n",
    "output_path = os.path.join(base_dir, \"data\", \"haar_test_output\", \"healthy_eye\")\n",
    "log_path = os.path.join(base_dir, \"data\", \"log\")\n",
    "\n",
    "# Run detection\n",
    "skipped = detect_haar_eyes(input_path, output_path)\n",
    "\n",
    "# Log skipped files\n",
    "if skipped:\n",
    "    os.makedirs(log_path, exist_ok=True)\n",
    "    df = pd.DataFrame(skipped, columns=[\"filename\", \"reason\"])\n",
    "    df.to_csv(os.path.join(log_path, \"skipped_haar_images.csv\"), index=False)\n",
    "    print(f\"Logged {len(skipped)} skipped files to 'data/log/skipped_haar_images.csv'\")\n",
    "else:\n",
    "    print(\"All eye crops successful.\")"
   ]
  },
  {
   "cell_type": "code",
   "execution_count": 13,
   "metadata": {},
   "outputs": [],
   "source": [
    "import matplotlib.pyplot as plt\n",
    "import cv2\n",
    "import os\n",
    "\n",
    "def visualize_skipped_images(skipped_list, input_dir, max_images=4):\n",
    "    for i, (fname, reason) in enumerate(skipped_list[:max_images]):\n",
    "        img_path = os.path.join(input_dir, fname)\n",
    "        img = cv2.imread(img_path)\n",
    "\n",
    "        if img is not None:\n",
    "            plt.figure(figsize=(4, 4))\n",
    "            plt.imshow(cv2.cvtColor(img, cv2.COLOR_BGR2RGB))\n",
    "            plt.title(f\"{fname} — {reason}\")\n",
    "            plt.axis('off')\n",
    "            plt.show()  # Move inside the loop to show each image one-by-one\n",
    "        else:\n",
    "            print(f\"Image {fname} could not be loaded.\")\n",
    "\n",
    "# Use same base_dir logic\n",
    "base_dir = os.path.abspath(os.path.join(os.getcwd(), \"..\"))\n",
    "input_path = os.path.join(base_dir, \"data\", \"processed\", \"healthy_eye\")\n",
    "\n",
    "# Call the function with corrected path\n",
    "visualize_skipped_images(skipped, input_path)"
   ]
  }
 ],
 "metadata": {
  "kernelspec": {
   "display_name": ".venv",
   "language": "python",
   "name": "python3"
  },
  "language_info": {
   "codemirror_mode": {
    "name": "ipython",
    "version": 3
   },
   "file_extension": ".py",
   "mimetype": "text/x-python",
   "name": "python",
   "nbconvert_exporter": "python",
   "pygments_lexer": "ipython3",
   "version": "3.12.4"
  }
 },
 "nbformat": 4,
 "nbformat_minor": 2
}
