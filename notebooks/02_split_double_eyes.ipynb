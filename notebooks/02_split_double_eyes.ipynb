{
 "cells": [
  {
   "cell_type": "code",
   "execution_count": 12,
   "metadata": {},
   "outputs": [],
   "source": [
    "import cv2\n",
    "import os\n",
    "from tqdm import tqdm\n",
    "\n",
    "def split_double_eye_images(input_folder, output_folder, threshold_ratio=1.3):\n",
    "    os.makedirs(output_folder, exist_ok=True)\n",
    "    skipped = []\n",
    "\n",
    "    for fname in tqdm(os.listdir(input_folder), desc=\"Checking for double eyes\"):\n",
    "        try:\n",
    "            img_path = os.path.join(input_folder, fname)\n",
    "            img = cv2.imread(img_path)\n",
    "\n",
    "            if img is None:\n",
    "                skipped.append((fname, \"Unreadable image\"))\n",
    "                continue\n",
    "\n",
    "            h, w = img.shape[:2]\n",
    "\n",
    "            # Check aspect ratio: wider than tall likely means 2 eyes\n",
    "            aspect_ratio = w / h\n",
    "\n",
    "            if aspect_ratio >= threshold_ratio:\n",
    "                # Horizontal split\n",
    "                mid = w // 2\n",
    "                left_eye = img[:, :mid]\n",
    "                right_eye = img[:, mid:]\n",
    "\n",
    "                # Resize both to 224x224\n",
    "                left_eye = cv2.resize(left_eye, (224, 224))\n",
    "                right_eye = cv2.resize(right_eye, (224, 224))\n",
    "\n",
    "                base = os.path.splitext(fname)[0]\n",
    "                cv2.imwrite(os.path.join(output_folder, f\"{base}_left.jpg\"), left_eye)\n",
    "                cv2.imwrite(os.path.join(output_folder, f\"{base}_right.jpg\"), right_eye)\n",
    "\n",
    "            else:\n",
    "                # Just one eye, resize and save\n",
    "                resized = cv2.resize(img, (224, 224))\n",
    "                cv2.imwrite(os.path.join(output_folder, fname), resized)\n",
    "\n",
    "        except Exception as e:\n",
    "            skipped.append((fname, str(e)))\n",
    "\n",
    "    return skipped"
   ]
  },
  {
   "cell_type": "code",
   "execution_count": 13,
   "metadata": {},
   "outputs": [
    {
     "name": "stderr",
     "output_type": "stream",
     "text": [
      "Checking for double eyes: 100%|██████████| 846/846 [00:00<00:00, 1040.04it/s]\n",
      "Checking for double eyes: 100%|██████████| 558/558 [00:00<00:00, 1061.02it/s]\n"
     ]
    }
   ],
   "source": [
    "split_healthy_path = '../data/split/healthy_eye'\n",
    "split_infected_path = '../data/split/infected_eye'\n",
    "\n",
    "skipped_h = split_double_eye_images('../data/processed/healthy_eye', split_healthy_path)\n",
    "skipped_i = split_double_eye_images('../data/processed/infected_eye', split_infected_path)\n",
    "\n",
    "# Optional: save skipped logs\n",
    "import pandas as pd\n",
    "all_skipped = skipped_h + skipped_i\n",
    "if all_skipped:\n",
    "    pd.DataFrame(all_skipped, columns=[\"filename\", \"reason\"]).to_csv(\"../data/log/skipped_split.csv\", index=False)"
   ]
  },
  {
   "cell_type": "code",
   "execution_count": 14,
   "metadata": {},
   "outputs": [],
   "source": [
    "import cv2\n",
    "import os\n",
    "import matplotlib.pyplot as plt\n",
    "import numpy as np\n",
    "\n",
    "# Folder where original processed images (may contain 2 eyes) are stored\n",
    "original_folder = '../data/processed/healthy_eye'  # or infected_eye\n",
    "\n",
    "# Folder where split images are stored\n",
    "split_folder = '../data/split/healthy_eye'\n",
    "\n",
    "# Loop over a few original files that were likely split\n",
    "count = 0\n",
    "for fname in os.listdir(original_folder):\n",
    "    base = os.path.splitext(fname)[0]\n",
    "    left_path = os.path.join(split_folder, f\"{base}_left.jpg\")\n",
    "    right_path = os.path.join(split_folder, f\"{base}_right.jpg\")\n",
    "\n",
    "    # Check if both splits exist → likely a double-eye image\n",
    "    if os.path.exists(left_path) and os.path.exists(right_path):\n",
    "        # Load original and both split crops\n",
    "        original = cv2.imread(os.path.join(original_folder, fname))\n",
    "        left = cv2.imread(left_path)\n",
    "        right = cv2.imread(right_path)\n",
    "\n",
    "        # Convert to RGB\n",
    "        original = cv2.cvtColor(original, cv2.COLOR_BGR2RGB)\n",
    "        left = cv2.cvtColor(left, cv2.COLOR_BGR2RGB)\n",
    "        right = cv2.cvtColor(right, cv2.COLOR_BGR2RGB)\n",
    "\n",
    "        # Show them side by side\n",
    "        fig, axs = plt.subplots(1, 3, figsize=(15, 5))\n",
    "        axs[0].imshow(original)\n",
    "        axs[0].set_title(\"Original (Possibly Two Eyes)\")\n",
    "        axs[1].imshow(left)\n",
    "        axs[1].set_title(\"Left Eye Split\")\n",
    "        axs[2].imshow(right)\n",
    "        axs[2].set_title(\"Right Eye Split\")\n",
    "        for ax in axs:\n",
    "            ax.axis('off')\n",
    "        plt.tight_layout()\n",
    "        plt.show()\n",
    "\n",
    "        count += 1\n",
    "        if count == 5:  # limit to 5 previews\n",
    "            break"
   ]
  },
  {
   "cell_type": "code",
   "execution_count": 15,
   "metadata": {},
   "outputs": [
    {
     "name": "stdout",
     "output_type": "stream",
     "text": [
      "[]\n"
     ]
    }
   ],
   "source": [
    "print([f for f in os.listdir(split_healthy_path) if \"_left\" in f or \"_right\" in f])"
   ]
  },
  {
   "cell_type": "code",
   "execution_count": 16,
   "metadata": {},
   "outputs": [
    {
     "name": "stdout",
     "output_type": "stream",
     "text": [
      "[('63.jpg', 1.0), ('823.jpg', 1.0), ('189.jpg', 1.0), ('77.jpg', 1.0), ('638.jpg', 1.0), ('604.jpg', 1.0), ('162.jpg', 1.0), ('176.jpg', 1.0), ('88.jpg', 1.0), ('610.jpg', 1.0)]\n"
     ]
    }
   ],
   "source": [
    "import cv2, os\n",
    "\n",
    "ratios = []\n",
    "for f in os.listdir('../data/processed/healthy_eye'):\n",
    "    img = cv2.imread(os.path.join('../data/processed/healthy_eye', f))\n",
    "    if img is not None:\n",
    "        h, w = img.shape[:2]\n",
    "        ratio = w / h\n",
    "        ratios.append((f, round(ratio, 2)))\n",
    "\n",
    "# Sort to see widest images first\n",
    "ratios.sort(key=lambda x: -x[1])\n",
    "print(ratios[:10])"
   ]
  }
 ],
 "metadata": {
  "kernelspec": {
   "display_name": ".venv",
   "language": "python",
   "name": "python3"
  },
  "language_info": {
   "codemirror_mode": {
    "name": "ipython",
    "version": 3
   },
   "file_extension": ".py",
   "mimetype": "text/x-python",
   "name": "python",
   "nbconvert_exporter": "python",
   "pygments_lexer": "ipython3",
   "version": "3.12.4"
  }
 },
 "nbformat": 4,
 "nbformat_minor": 2
}
