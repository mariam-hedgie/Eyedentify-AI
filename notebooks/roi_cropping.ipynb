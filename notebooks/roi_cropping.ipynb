{
 "cells": [
  {
   "cell_type": "code",
   "execution_count": 1,
   "metadata": {},
   "outputs": [],
   "source": [
    "import cv2\n",
    "import os\n",
    "import numpy as np\n",
    "import matplotlib.pyplot as plt\n",
    "from tqdm import tqdm\n",
    "import mediapipe as mp\n",
    "from pathlib import Path  # for safer path joins if needed\n",
    "import pandas as pd\n",
    "\n",
    "# access utils if using shared code\n",
    "import sys\n",
    "sys.path.append(\"..\")"
   ]
  },
  {
   "cell_type": "code",
   "execution_count": 2,
   "metadata": {},
   "outputs": [],
   "source": [
    "# helper function\n",
    "def extract_eye_roi(landmarks, indices, w, h):\n",
    "    points = []\n",
    "    for idx in indices:\n",
    "        try:\n",
    "            # scale normalized landmark coordinates to pixel dimensions\n",
    "            x = int(landmarks.landmark[idx].x * w)\n",
    "            y = int(landmarks.landmark[idx].y * h)\n",
    "            points.append((x, y))\n",
    "        except IndexError:\n",
    "            # skip if landmark index is missing\n",
    "            continue\n",
    "    # return points only if enough are found to form a reliable bounding box\n",
    "    return points if len(points) >= 6 else None"
   ]
  },
  {
   "cell_type": "code",
   "execution_count": 3,
   "metadata": {},
   "outputs": [],
   "source": [
    "# helper function to crop, resize, and save an eye ROI\n",
    "def crop_and_save(img, points, filename, output_path, side):\n",
    "    # unpack x and y coordinates\n",
    "    x_coords, y_coords = zip(*points)\n",
    "    # get bounding box coordinates with safety clamps\n",
    "    x_min, x_max = max(min(x_coords), 0), min(max(x_coords), img.shape[1])\n",
    "    y_min, y_max = max(min(y_coords), 0), min(max(y_coords), img.shape[0])\n",
    "\n",
    "    # skip if bounding box is too small to be meaningful\n",
    "    if (x_max - x_min < 10) or (y_max - y_min < 10):\n",
    "        return False\n",
    "\n",
    "    # crop the region of interest\n",
    "    roi = img[y_min:y_max, x_min:x_max]\n",
    "    # Resize to 224x224 to match CNN input\n",
    "    roi_resized = cv2.resize(roi, (224, 224))\n",
    "    # save with prefix indicating which eye\n",
    "    save_path = os.path.join(output_path, f\"{side}_{filename}\")\n",
    "    cv2.imwrite(save_path, roi_resized)\n",
    "    return True  # return success flag"
   ]
  },
  {
   "cell_type": "code",
   "execution_count": 4,
   "metadata": {},
   "outputs": [],
   "source": [
    "# Main function to extract eye ROIs from images in a folder\n",
    "def roi_crop(input_path, output_path, label=None):\n",
    "    # Initialize MediaPipe FaceMesh\n",
    "    mp_face_mesh = mp.solutions.face_mesh\n",
    "    face_mesh = mp_face_mesh.FaceMesh(\n",
    "        static_image_mode=True,       # Process each image independently\n",
    "        refine_landmarks=True,        # Gives iris and more accurate eye contours\n",
    "        max_num_faces=1,              # Only detect one face per image\n",
    "        min_detection_confidence=0.5  # Increase if you're getting false detections\n",
    "    )\n",
    "\n",
    "    # Define landmark indices for left and right eyes\n",
    "    LEFT_EYE_LANDMARKS = [463, 398, 384, 385, 386, 387, 388, 466, 263, 249, 390, 373, 374, 380, 381, 382, 362]\n",
    "    RIGHT_EYE_LANDMARKS = [33, 246, 161, 160, 159, 158, 157, 173, 133, 155, 154, 153, 145, 144, 163, 7]\n",
    "\n",
    "    # For logging skipped files and why\n",
    "    skipped_files = []\n",
    "\n",
    "    # Loop through all files in the input directory\n",
    "    for file in os.listdir(input_path):\n",
    "        img_path = os.path.join(input_path, file)\n",
    "\n",
    "        try:\n",
    "            # Load the image using OpenCV\n",
    "            img = cv2.imread(img_path)\n",
    "\n",
    "            # Skip if image is unreadable or not 3-channel\n",
    "            if img is None or len(img.shape) != 3 or img.shape[2] != 3:\n",
    "                raise Exception(\"Invalid image format or unreadable image\")\n",
    "\n",
    "            # Convert BGR to RGB for MediaPipe\n",
    "            img_rgb = cv2.cvtColor(img, cv2.COLOR_BGR2RGB)\n",
    "            results = face_mesh.process(img_rgb)\n",
    "\n",
    "            # If no face is detected, log and skip\n",
    "            if not results.multi_face_landmarks:\n",
    "                skipped_files.append((file, \"No face detected\"))\n",
    "                continue\n",
    "\n",
    "            # Get image dimensions\n",
    "            h, w, _ = img.shape\n",
    "            landmarks = results.multi_face_landmarks[0]\n",
    "\n",
    "            # Extract landmark points for each eye\n",
    "            left_eye_points = extract_eye_roi(landmarks, LEFT_EYE_LANDMARKS, w, h)\n",
    "            right_eye_points = extract_eye_roi(landmarks, RIGHT_EYE_LANDMARKS, w, h)\n",
    "\n",
    "            # Track if either eye crop was successful\n",
    "            success = False\n",
    "\n",
    "            # Crop left eye if possible\n",
    "            if left_eye_points:\n",
    "                success |= crop_and_save(img, left_eye_points, file, output_path, \"left\")\n",
    "\n",
    "            # Crop right eye if possible\n",
    "            if right_eye_points:\n",
    "                success |= crop_and_save(img, right_eye_points, file, output_path, \"right\")\n",
    "\n",
    "            # If neither eye was valid, log the failure\n",
    "            if not success:\n",
    "                skipped_files.append((file, \"No valid eye ROI found\"))\n",
    "\n",
    "        except Exception as e:\n",
    "            # Catch and log any unexpected errors\n",
    "            skipped_files.append((file, f\"Processing error: {e}\"))\n",
    "\n",
    "    # Return the list of all files that were skipped with reasons\n",
    "    return skipped_files"
   ]
  },
  {
   "cell_type": "code",
   "execution_count": 5,
   "metadata": {},
   "outputs": [
    {
     "name": "stderr",
     "output_type": "stream",
     "text": [
      "WARNING: All log messages before absl::InitializeLog() is called are written to STDERR\n",
      "I0000 00:00:1750632998.449037 23620984 gl_context.cc:369] GL version: 2.1 (2.1 Metal - 88.1), renderer: Apple M3 Max\n",
      "INFO: Created TensorFlow Lite XNNPACK delegate for CPU.\n",
      "W0000 00:00:1750632998.457418 23640978 inference_feedback_manager.cc:114] Feedback manager requires a model with a single signature inference. Disabling support for feedback tensors.\n",
      "W0000 00:00:1750632998.462962 23640978 inference_feedback_manager.cc:114] Feedback manager requires a model with a single signature inference. Disabling support for feedback tensors.\n",
      "W0000 00:00:1750632998.473054 23640978 landmark_projection_calculator.cc:186] Using NORM_RECT without IMAGE_DIMENSIONS is only supported for the square ROI. Provide IMAGE_DIMENSIONS or use PROJECTION_MATRIX.\n",
      "I0000 00:00:1750632998.988977 23620984 gl_context.cc:369] GL version: 2.1 (2.1 Metal - 88.1), renderer: Apple M3 Max\n",
      "W0000 00:00:1750632998.989951 23641034 inference_feedback_manager.cc:114] Feedback manager requires a model with a single signature inference. Disabling support for feedback tensors.\n",
      "W0000 00:00:1750632998.995208 23641044 inference_feedback_manager.cc:114] Feedback manager requires a model with a single signature inference. Disabling support for feedback tensors.\n"
     ]
    }
   ],
   "source": [
    "processed_healthy_path = '../data/processed/healthy_eye'\n",
    "processed_infected_path = '../data/processed/infected_eye'\n",
    "\n",
    "roi_healthy_path = '../data/roi/healthy_eye'\n",
    "roi_infected_path = '../data/roi/infected_eye'\n",
    "\n",
    "# Run the cropper\n",
    "skipped_healthy_roi = roi_crop(processed_healthy_path, roi_healthy_path, \"Healthy\")\n",
    "skipped_infected_roi = roi_crop(processed_infected_path, roi_infected_path, \"Infected\")\n",
    "\n",
    "# Combine skipped logs\n",
    "skipped_roi = skipped_healthy_roi + skipped_infected_roi"
   ]
  },
  {
   "cell_type": "code",
   "execution_count": 6,
   "metadata": {},
   "outputs": [
    {
     "name": "stdout",
     "output_type": "stream",
     "text": [
      "Logged 291 skipped files to '../data/log/skipped_roi_images.csv'\n"
     ]
    }
   ],
   "source": [
    "import pandas as pd\n",
    "\n",
    "if skipped_roi:\n",
    "    df_skipped = pd.DataFrame(skipped_roi, columns=[\"filename\", \"reason\"])\n",
    "    df_skipped.to_csv(\"../data/log/skipped_roi_images.csv\", index=False)\n",
    "    print(f\"Logged {len(skipped_roi)} skipped files to '../data/log/skipped_roi_images.csv'\")\n",
    "else:\n",
    "    print(\"All ROI crops successful.\")"
   ]
  }
 ],
 "metadata": {
  "kernelspec": {
   "display_name": ".venv",
   "language": "python",
   "name": "python3"
  },
  "language_info": {
   "codemirror_mode": {
    "name": "ipython",
    "version": 3
   },
   "file_extension": ".py",
   "mimetype": "text/x-python",
   "name": "python",
   "nbconvert_exporter": "python",
   "pygments_lexer": "ipython3",
   "version": "3.12.4"
  }
 },
 "nbformat": 4,
 "nbformat_minor": 2
}
